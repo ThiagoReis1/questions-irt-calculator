{
 "cells": [
  {
   "cell_type": "code",
   "execution_count": 3,
   "metadata": {},
   "outputs": [
    {
     "name": "stdout",
     "output_type": "stream",
     "text": [
      "Arquivo 'unified_solutions.csv' criado com sucesso!\n"
     ]
    }
   ],
   "source": [
    "# Notebook para unificação dos arquivos solutions.csv\n",
    "import os\n",
    "import pandas as pd\n",
    "\n",
    "# Caminho base onde estão as pastas que contêm os arquivos solutions.csv\n",
    "base_path = r'..\\CSVs_JO'\n",
    "\n",
    "# Lista para armazenar os dataframes de cada arquivo solutions.csv\n",
    "dataframes = []\n",
    "\n",
    "# Itera sobre as subpastas dentro da pasta base\n",
    "for folder in os.listdir(base_path):\n",
    "    folder_path = os.path.join(base_path, folder)\n",
    "    \n",
    "    # Verifica se é uma pasta e se contém o arquivo solutions.csv\n",
    "    if os.path.isdir(folder_path):\n",
    "        solutions_path = os.path.join(folder_path, 'solutions.csv')\n",
    "        if os.path.exists(solutions_path):\n",
    "            # Lê o arquivo CSV e adiciona à lista de dataframes\n",
    "            df = pd.read_csv(solutions_path)\n",
    "            dataframes.append(df)\n",
    "\n",
    "# Concatena todos os dataframes em um único, se houver arquivos\n",
    "if dataframes:\n",
    "    unified_df = pd.concat(dataframes, ignore_index=True)\n",
    "    \n",
    "    # Exibe o dataframe unificado\n",
    "    unified_df.head()  # Mostra as primeiras linhas do DataFrame unificado\n",
    "    \n",
    "    # Salva o dataframe unificado em um novo arquivo CSV\n",
    "    unified_df.to_csv('unified_solutions.csv', index=False)\n",
    "    print(\"Arquivo 'unified_solutions.csv' criado com sucesso!\")\n",
    "else:\n",
    "    print(\"Nenhum arquivo solutions.csv foi encontrado.\")\n"
   ]
  }
 ],
 "metadata": {
  "kernelspec": {
   "display_name": "Python 3",
   "language": "python",
   "name": "python3"
  },
  "language_info": {
   "codemirror_mode": {
    "name": "ipython",
    "version": 3
   },
   "file_extension": ".py",
   "mimetype": "text/x-python",
   "name": "python",
   "nbconvert_exporter": "python",
   "pygments_lexer": "ipython3",
   "version": "3.11.0"
  }
 },
 "nbformat": 4,
 "nbformat_minor": 2
}
